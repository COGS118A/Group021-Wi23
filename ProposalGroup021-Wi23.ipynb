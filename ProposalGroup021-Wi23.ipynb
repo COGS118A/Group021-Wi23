{
 "cells": [
  {
   "cell_type": "markdown",
   "metadata": {},
   "source": [
    "# COGS 118A- Project Proposal"
   ]
  },
  {
   "cell_type": "markdown",
   "metadata": {},
   "source": [
    "# Project Description\n",
    "\n",
    "You will design and execute a machine learning project. There are a few constraints on the nature of the allowed project. \n",
    "- The problem addressed will not be a \"toy problem\" or \"common training students problem\" like mtcars, iris, palmer penguins etc.\n",
    "- The dataset will have >1k observations and >5 variables. I'd prefer more like >10k observations and >10 variables. A general rule is that if you have >100x more observations than variables, your solution will likely generalize a lot better. The goal of training a supervised machine learning model is to learn the underlying pattern in a dataset in order to generalize well to unseen data, so choosing a large dataset is very important.\n",
    "\n",
    "- The project will include a model selection and/or feature selection component where you will be looking for the best setup to maximize the performance of your ML system.\n",
    "- You will evaluate the performance of your ML system using more than one appropriate metric\n",
    "- You will be writing a report describing and discussing these accomplishments"
   ]
  },
  {
   "cell_type": "markdown",
   "metadata": {},
   "source": [
    "### Peer Review\n",
    "\n",
    "You will all have an opportunity to look at the Project Proposals of other groups to fuel your creativity and get more ideas for how you can improve your own projects. \n",
    "\n",
    "Both the project proposal and project checkpoint will have peer review."
   ]
  },
  {
   "cell_type": "markdown",
   "metadata": {},
   "source": [
    "# Names\n",
    "\n",
    "- Jerry Wang, A16149329\n",
    "- Darius Azure, A15786330\n",
    "- Miko Brown, A16237566\n"
   ]
  },
  {
   "cell_type": "markdown",
   "metadata": {},
   "source": [
    "# Abstract \n",
    "\n",
    "The goal of our project is to classify musical genre basic on a variety of features describing the music. Our project tackles the problem of classifying song genre based on many variables including artist, song name, popularity, acousticness, danceability, energy, instrumentalness, key, tune, and etc. \n",
    "\n",
    "The data contains entries with each of these features and their musical genre. We will create pipeline models to perform multi-classification on genre in the dataset. By comparing performance and metrics from different models, we will pick the highest accuracy algorithm."
   ]
  },
  {
   "cell_type": "markdown",
   "metadata": {},
   "source": [
    "# Background\n",
    "\n",
    "In the history of music, there was no such complex system to define music genre in earlier times. It was more simple to categorize music according to its period of time<a name=\"wikinote1\"></a>[<sup>[1]</sup>](#wiki1). After the 20th century, creative musicians brought different format of music to the stage so that people start to categorize the music into genres. The music genre becomes more complicated as the technology develops. Nowadays, when facing countless music work, we cannot categorize a genre from its time. Instead, we may need to determine the music category based on its features, attributes, and listening response. \n",
    "\n",
    "A music genre or subgenre may be defined by the musical techniques, the cultural context, and the content and spirit of the themes<a name=\"wikinote2\"></a>[<sup>[2]</sup>](#wiki2). This article describes how many people subjectively view genre of music. This is useful for human-being, but difficult to classify large datasets of songs without listening to and understanding each song in depth. We can find that music genre itself is not easy to identified by individual factors from listening since people may have subjective thoughts. We tend to believe that there exists some more objective methods in machine learning to categorize music genre with computer algorithms.\n",
    "\n",
    "Additionally, music genre is a dynamic concept. Due to the natural evolution of music, it may appear differently in differnt periods of time. Therefore, a listening response might be outdated if a genre is gradually disappearing or shifting to different formats<a name=\"newyorker\"></a>[<sup>[3]</sup>](#newyorker). In contradiction, data implementation will not be affected by such evolution since data is measure objectively during that time period and measures a fixed in-time genre rather than a dynamic genre shifted from earlier times. For instance, the general keys of Jazz music in 1900s are different with Jazz music in 2020, but the computer will filter out the era's influence on keys."
   ]
  },
  {
   "cell_type": "markdown",
   "metadata": {},
   "source": [
    "# Problem Statement\n",
    "Given different attributes of one music, what is its most possible music genre(category)?\n",
    "\n",
    "The problem is quantifiable since the classification is a classical quantifiable problem, we can represent the problem as:\n",
    "\n",
    "- Denote music clips $x_1$ to $x_n$ as X, what is the predict label of $x_i$ that $i \\in {1,2,...,n}$: $\\bar {y_i}$.\n",
    "- Given $x_1$ to $x_n$, each $\\vec x_i$ $\\in \\mathbb{R}^d$ that $f_1$ through $f_d$ are features of $\\vec x_i$. What is $\\bar y_i$?\n",
    "\n",
    "The problem is measurable since we can evaluate the quantitative prediction performanceand also metrics that help to obersve our accuracy(expand later in metrics).\n",
    "\n",
    "The problem is replicable since algorithms are stable, once data of a music is obtained, the problem can be reproduced. "
   ]
  },
  {
   "cell_type": "markdown",
   "metadata": {},
   "source": [
    "# Data\n",
    "\n",
    "- source: interest in music, general search online for datasets; [author](https://www.kaggle.com/vicsuperman) is from Wellington, New Zealand; the origin source of the data is unknown, we only grab it from Kaggle platform\n",
    "\n",
    "- reference: [Kaggle](https://www.kaggle.com/datasets/vicsuperman/prediction-of-music-genre), dataset search under classification\n",
    "\n",
    "- description dataset: 17 of variables, 49944 of observations\n",
    "\n",
    "- an observation consists of: instance_id, artist_name, track_name, popularity, acousticness, danceability,  duration_ms, energy, instrumentalness, key, liveness, loudness, mode, speechiness, tempo, obtained_date, valence, music_gengre\n",
    "\n",
    "- Actually we are not sure what should be considered as critical variables since any of the attributes of a music can make huge differernce to this music. Generally, the variables are presented in numerical values and categorical values and contains missing data.\n",
    "\n",
    "- cleaning of extreme numerical values, unmatched type, different format of categorical values\n",
    "\n",
    "- handling of missingness\n"
   ]
  },
  {
   "cell_type": "markdown",
   "metadata": {},
   "source": [
    "# Proposed Solution\n",
    "\n",
    "\n",
    "\n",
    "In this section, clearly describe a solution to the problem. The solution should be applicable to the project domain and appropriate for the dataset(s) or input(s) given. Provide enough detail (e.g., algorithmic description and/or theoretical properties) to convince us that your solution is applicable. Why might your solution work? Make sure to describe how the solution will be tested.\n",
    "\n",
    "Given $x_1$ to $x_n$, each $\\vec x_i$ $\\in \\mathbb{R}^d$ that $f_1$ through $f_d$ are features of $\\vec x_i$. Predict \n",
    "the most possible category $y_i$.\n",
    "\n",
    "The solution is applicable and appropriate since:\n",
    "- Given features and observations, a multi-class calssification is stable and appropriae to this dataset since our true music genre has different categorical values.\n",
    "- We will build different models to produce the prediction, for example(not limited to) KNN, SVM, Neural Networks, Decision Trees, Gradient Boosting... The performance will be evaluated quantitatively.\n",
    "- We will use (repeated) K-fold cross validation to split test data and test our model performace with accuracy.\n",
    "- Comparision through models will be performed."
   ]
  },
  {
   "cell_type": "markdown",
   "metadata": {},
   "source": [
    "# Evaluation Metrics\n",
    "\n",
    "For our project we have chosen to focus on the evaluation metric of the f1 score which we will use to try to evaluate how well our project is predicting the music genre. Due to having to store our data in a measurable way through our data cleaning to be quantifiable we need to see if we are handling these new variables are correctly being measured in a way where important comparisons have the proper weights. Since we need the project to be measurable we need to see that these variables that we cleaned are being weighed correctly which is why we will use f1 to try to compare our prediction of our training set to the actual genre to try to measure how many true postives and true negatives we have in our predictions in order to see how accurate our predictions are.\n",
    "\n",
    "We can also compare these scores to try to see if there is any overlap between predicting certain genres and see if our different models have more power in predicting these songs better than others depending on our score that we get. In general using these different factors that we have deemed quantifable we should check if we correctly measured the weight of these factors and see how truly we were able to identify the genre. The reason we do not use sensitivity or precision because we want to balance the amount of these two as we know that having one being too high can skew our predictions from their bias or variance so we instead focus on the f1 score as our measure of power."
   ]
  },
  {
   "cell_type": "markdown",
   "metadata": {},
   "source": [
    "# Ethics & Privacy"
   ]
  },
  {
   "cell_type": "markdown",
   "metadata": {},
   "source": [
    "Due to the fact that each song labeled with artist and the name of the song there is the problem of these being identifable and since this data is likely not important to our analysis we will not reflect specific songs in our analysis and try to avoid biases due to song selections in our fold selection to the best of our ability. We will have our data highlight only the important aspects of the analysis that will not have identifiable links back to the data. We will have the songs instead represented as meaningless id code labels that will have no relation to the song or artist themselves to avoid potential bias in our data analysis and will instead focus on the other factors about the songs to focus instead on predicting the genre based on those quantifiable aspects rather than inherit biases we may unintentionally have if we based it on song or artist names. Due to the nature of us scrapping data that we ourselves did not collect we will comb through the data to make sure that there are no ethical issues with the data collection and that there is no bias to what was collected and that there is no PIID values that may have been collected in the data as discussed earlier. We will make sure that all genres are properly represented in valid ways and that our data analysis relys on purely numerical data that is comparable rather than our own bias. Furthermore if any ethical dilemas come up during or after our research we plan on adjusting our data to handle or remove ethical concerns within our modeling and deployment of the analysis. We will have our data in comparable and categorical matter where we weigh our data properly but if these factors are found to not be properly utilized or have a bias that affects our ethics we will try to reflect this in either our final project."
   ]
  },
  {
   "cell_type": "markdown",
   "metadata": {},
   "source": [
    "# Team Expectations "
   ]
  },
  {
   "cell_type": "markdown",
   "metadata": {},
   "source": [
    "* Be nice and supportive.\n",
    "* Communicate through Discord, respond in time.\n",
    "* Make sure we reach agreement to changes.\n",
    "* Ask for help if necessary, help if you can.\n",
    "* Vote for conflicts.\n",
    "* Don't delete anything without permission unless individual scratch.\n",
    "* Finish as our schedule.\n"
   ]
  },
  {
   "cell_type": "markdown",
   "metadata": {},
   "source": [
    "# Project Timeline Proposal"
   ]
  },
  {
   "cell_type": "markdown",
   "metadata": {},
   "source": [
    "Rough time plan:\n",
    "\n",
    "| Meeting Date  | Meeting Time| Completed Before Meeting  | Discuss at Meeting |\n",
    "|---|---|---|---|\n",
    "| 2/17  |  2 PM |  Brainstorm topics/questions (all)  | Determine best form of communication; Discuss final project topic; Discuss hypothesis; Dackground research; Build proposal | \n",
    "| 2/23or24  |  2 PM |  Start data import | Discuss ideal dataset(s) and ethics; Load data; Find relevant music knowledge; Solve potential concerns | \n",
    "|*Below are TBD*| ... | ... |\n",
    "| 2/28  | 2 PM  | Edit, finalize, and submit proposal; Search for datasets   | Discuss Wrangling and possible analytical approaches; Assign group members to lead each specific part   |\n",
    "| 3/7  | 2 PM  | Import & Wrangle Data ,do some EDA  | Review/Edit wrangling/EDA; Discuss Analysis Plan   |\n",
    "| 3/14  | 2 PM  | Finalize wrangling/EDA; Begin programming for project  | Discuss/edit project code; Complete project |\n",
    "| 3/20 | Before 11:59 PM  | NA | Turn in Final Project  |"
   ]
  },
  {
   "cell_type": "markdown",
   "metadata": {},
   "source": [
    "# Footnotes\n",
    "<a name=\"wikinote1\"></a>1.[^](#wiki1): (16 February 2023) History of Music [Wikipedia](https://en.wikipedia.org/wiki/History_of_music).\n",
    "\n",
    "\n",
    "<a name=\"wikinote2\"></a>2.[^](#wiki2): (9 February 2023) Music genre [Wikipedia](https://en.wikipedia.org/wiki/Music_genre#:~:text=A%20music%20genre%20or%20subgenre,a%20wide%20variety%20of%20subgenres).\n",
    "\n",
    "<a name=\"newyorker\"></a>3.[^](#newyorker): (15 March 2021) Genre Is Disappearing. What Comes Next? [newyorker](https://www.newyorker.com/magazine/2021/03/15/genre-is-disappearing-what-comes-next)."
   ]
  }
 ],
 "metadata": {
  "kernelspec": {
   "display_name": "Python 3 (ipykernel)",
   "language": "python",
   "name": "python3"
  },
  "language_info": {
   "codemirror_mode": {
    "name": "ipython",
    "version": 3
   },
   "file_extension": ".py",
   "mimetype": "text/x-python",
   "name": "python",
   "nbconvert_exporter": "python",
   "pygments_lexer": "ipython3",
   "version": "3.10.5"
  }
 },
 "nbformat": 4,
 "nbformat_minor": 2
}
